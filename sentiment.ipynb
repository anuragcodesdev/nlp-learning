{
  "cells": [
    {
      "cell_type": "code",
      "source": [
        "from transformers import pipeline"
      ],
      "outputs": [
        {
          "output_type": "stream",
          "name": "stderr",
          "text": "/anaconda/envs/nlp-env/lib/python3.10/site-packages/tqdm/auto.py:21: TqdmWarning: IProgress not found. Please update jupyter and ipywidgets. See https://ipywidgets.readthedocs.io/en/stable/user_install.html\n  from .autonotebook import tqdm as notebook_tqdm\n"
        }
      ],
      "execution_count": 1,
      "metadata": {
        "gather": {
          "logged": 1749649447920
        }
      }
    },
    {
      "cell_type": "code",
      "source": [
        "\"\"\"\n",
        "The pipelines below are selected for their balance of accurary, speed, and relevance to the S2S Therapist that is to be built.\n",
        "\n",
        "- sentiment_pipeline: Uses DistilBERT fine-tuned on SST-2 for fast, reliable binary sentiment classification. This replaces the previous, larger model trained on social media data, which included a neutral category not needed for this application.\n",
        "- emotion_pipeline: Lightweight DistilBERT-based model trained on six emotions, designed for faster, real-time detection of moods. This distilled version of previous models is generally used for chatbot conversations.\n",
        "- zero_shot_pipeline: Testing to utilse in conjuction with sentiment and emotion pipelines for flexible and dynamic responses.\n",
        "- ner_pipeline: DistilBERT-based NER for accurate, real-time entity extraction of names, organisations, and locations - again to aid the previous pipelines and final output generation.\n",
        "\"\"\"\n",
        "\n",
        "\n",
        "sentiment_pipeline = pipeline(\n",
        "    \"sentiment-analysis\", \n",
        "    model=\"distilbert/distilbert-base-uncased-finetuned-sst-2-english\"\n",
        ")\n",
        "\n",
        "emotion_pipeline = pipeline(\n",
        "    \"text-classification\", \n",
        "    model=\"hamzawaheed/emotion-classification-model\"\n",
        ")\n",
        "\n",
        "zero_shot_pipeline = pipeline(\n",
        "    \"zero-shot-classification\", \n",
        "    model=\"facebook/bart-large-mnli\")\n",
        "\n",
        "ner_pipeline = pipeline(\n",
        "    \"ner\", \n",
        "    model=\"dslim/distilbert-NER\", \n",
        "    aggregation_strategy=\"simple\"\n",
        ")"
      ],
      "outputs": [
        {
          "output_type": "stream",
          "name": "stderr",
          "text": "Device set to use cpu\nDevice set to use cpu\nDevice set to use cpu\nDevice set to use cpu\n"
        }
      ],
      "execution_count": 2,
      "metadata": {
        "gather": {
          "logged": 1749649449811
        }
      }
    },
    {
      "cell_type": "code",
      "source": [
        "def analyse_sentiment(text: str) -> dict:\n",
        "    result = sentiment_pipeline(text)[0]\n",
        "    \n",
        "    return {\n",
        "        \"sentiment\": result[\"label\"],\n",
        "        \"confidence\": result[\"score\"]\n",
        "    }"
      ],
      "outputs": [],
      "execution_count": 3,
      "metadata": {
        "gather": {
          "logged": 1749649450037
        }
      }
    },
    {
      "cell_type": "code",
      "source": [
        "analyse_sentiment(\"This is amazing!\")"
      ],
      "outputs": [
        {
          "output_type": "execute_result",
          "execution_count": 4,
          "data": {
            "text/plain": "{'sentiment': 'POSITIVE', 'confidence': 0.9998769760131836}"
          },
          "metadata": {}
        }
      ],
      "execution_count": 4,
      "metadata": {
        "gather": {
          "logged": 1749649450187
        }
      }
    },
    {
      "cell_type": "code",
      "source": [
        "def analyse_emotions(text: str) -> dict:\n",
        "    emotions = emotion_pipeline(text)\n",
        "\n",
        "    label_map = {\n",
        "    \"LABEL_0\": \"sadness\",\n",
        "    \"LABEL_1\": \"joy\",\n",
        "    \"LABEL_2\": \"love\",\n",
        "    \"LABEL_3\": \"anger\",\n",
        "    \"LABEL_4\": \"fear\",\n",
        "    \"LABEL_5\": \"surprise\"\n",
        "    }\n",
        "\n",
        "    # Identify the highest-scoring emotion\n",
        "    top_emotion = max(emotions, key=lambda x: x[\"score\"])\n",
        "\n",
        "    return {\n",
        "        \"primary_emotion\": label_map.get(top_emotion[\"label\"], top_emotion[\"label\"]),\n",
        "        \"primary_confidence\": top_emotion[\"score\"]\n",
        "    }"
      ],
      "outputs": [],
      "execution_count": 5,
      "metadata": {
        "gather": {
          "logged": 1749649450365
        }
      }
    },
    {
      "cell_type": "code",
      "source": [
        "analyse_emotions(\"This makes me feel happy but makes me feel happy\")"
      ],
      "outputs": [
        {
          "output_type": "execute_result",
          "execution_count": 6,
          "data": {
            "text/plain": "{'primary_emotion': 'joy', 'primary_confidence': 0.9986132383346558}"
          },
          "metadata": {}
        }
      ],
      "execution_count": 6,
      "metadata": {
        "gather": {
          "logged": 1749649450525
        }
      }
    },
    {
      "cell_type": "code",
      "source": [
        "def analyse_zero_shot(text: str, labels: list) -> dict:\n",
        "    result = zero_shot_pipeline(text, candidate_labels=labels)\n",
        "    \n",
        "    return {\n",
        "        \"top_category\": result[\"labels\"][0],\n",
        "        \"top_score\": result[\"scores\"][0],\n",
        "    }"
      ],
      "outputs": [],
      "execution_count": 7,
      "metadata": {
        "gather": {
          "logged": 1749649450682
        }
      }
    },
    {
      "cell_type": "code",
      "source": [
        "text = \"I feel down\"\n",
        "labels = [\n",
        "    \"anger\",\n",
        "    \"sadness\",\n",
        "    \"anxiety\",\n",
        "    \"stress\",\n",
        "    \"happiness\",\n",
        "    \"gratitude\"\n",
        "]\n",
        "analyse_zero_shot(text, labels)"
      ],
      "outputs": [
        {
          "output_type": "execute_result",
          "execution_count": 8,
          "data": {
            "text/plain": "{'top_category': 'sadness', 'top_score': 0.9204614162445068}"
          },
          "metadata": {}
        }
      ],
      "execution_count": 8,
      "metadata": {
        "gather": {
          "logged": 1749649451201
        }
      }
    },
    {
      "cell_type": "code",
      "source": [
        "def analyse_ner(text: str) -> list:\n",
        "    # Get the raw results from the NER pipeline\n",
        "    results = ner_pipeline(text)\n",
        "\n",
        "    # Create a new list to store the cleaned entities\n",
        "    cleaned_entities = []\n",
        "\n",
        "    # Go through each result and pull out the important parts\n",
        "    for item in results:\n",
        "        entity_info = {\n",
        "            \"entity\": item[\"entity_group\"],\n",
        "            \"word\": item[\"word\"],\n",
        "            \"score\": item[\"score\"]\n",
        "        }\n",
        "        cleaned_entities.append(entity_info)\n",
        "\n",
        "    return cleaned_entities"
      ],
      "outputs": [],
      "execution_count": 9,
      "metadata": {
        "gather": {
          "logged": 1749649451371
        }
      }
    },
    {
      "cell_type": "code",
      "source": [
        "ner_text = \"I met Elliot at the Tesla clinic in Sydney.\"\n",
        "analyse_ner(ner_text)"
      ],
      "outputs": [
        {
          "output_type": "execute_result",
          "execution_count": 10,
          "data": {
            "text/plain": "[{'entity': 'PER', 'word': 'Elliot', 'score': np.float32(0.9977064)},\n {'entity': 'ORG', 'word': 'Te', 'score': np.float32(0.96471554)},\n {'entity': 'ORG', 'word': '##sla', 'score': np.float32(0.78039974)},\n {'entity': 'LOC', 'word': 'Sydney', 'score': np.float32(0.99765944)}]"
          },
          "metadata": {}
        }
      ],
      "execution_count": 10,
      "metadata": {
        "gather": {
          "logged": 1749649451575
        }
      }
    },
    {
      "cell_type": "code",
      "source": [
        "def get_combined_analysis(text: str, zero_shot_labels: list) -> dict:\n",
        "    sentiment_data = analyse_sentiment(text)\n",
        "    emotion_data = analyse_emotions(text)\n",
        "    zero_shot_data = analyse_zero_shot(text, zero_shot_labels)\n",
        "    ner_data = analyse_ner(text)\n",
        "    return {\n",
        "        \"text\": text,\n",
        "        \"sentiment\": sentiment_data,\n",
        "        \"emotion\": emotion_data,\n",
        "        \"zero_shot_classification\": zero_shot_data,\n",
        "        \"entities\": ner_data\n",
        "    }"
      ],
      "outputs": [],
      "execution_count": 11,
      "metadata": {
        "gather": {
          "logged": 1749649451829
        }
      }
    },
    {
      "cell_type": "code",
      "source": [
        "zero_shot_labels = [\"anger\", \"sadness\", \"anxiety\", \"stress\", \"happiness\", \"gratitude\"]\n",
        "# zero_shot_labels = [\"support\", \"advice\", \"self-reflection\", \"stress management\", \"motivation\", \"relationship\", \"celebration\", \"general conversation\"]\n",
        "get_combined_analysis(\"I recently moved to Melbourne and I feel refreshed.\", zero_shot_labels)"
      ],
      "outputs": [
        {
          "output_type": "execute_result",
          "execution_count": 16,
          "data": {
            "text/plain": "{'text': 'I recently moved to Melbourne and I feel refreshed.',\n 'sentiment': {'sentiment': 'POSITIVE', 'confidence': 0.9997652173042297},\n 'emotion': {'primary_emotion': 'joy',\n  'primary_confidence': 0.9972177743911743},\n 'zero_shot_classification': {'top_category': 'happiness',\n  'top_score': 0.379910945892334},\n 'entities': [{'entity': 'LOC',\n   'word': 'Melbourne',\n   'score': np.float32(0.9958221)}]}"
          },
          "metadata": {}
        }
      ],
      "execution_count": 16,
      "metadata": {
        "gather": {
          "logged": 1749649560361
        }
      }
    }
  ],
  "metadata": {
    "kernelspec": {
      "name": "nlp-env",
      "language": "python",
      "display_name": "My NLP Env"
    },
    "language_info": {
      "name": "python",
      "version": "3.10.18",
      "mimetype": "text/x-python",
      "codemirror_mode": {
        "name": "ipython",
        "version": 3
      },
      "pygments_lexer": "ipython3",
      "nbconvert_exporter": "python",
      "file_extension": ".py"
    },
    "microsoft": {
      "ms_spell_check": {
        "ms_spell_check_language": "en"
      },
      "host": {
        "AzureML": {
          "notebookHasBeenCompleted": true
        }
      }
    },
    "kernel_info": {
      "name": "nlp-env"
    },
    "nteract": {
      "version": "nteract-front-end@1.0.0"
    }
  },
  "nbformat": 4,
  "nbformat_minor": 2
}