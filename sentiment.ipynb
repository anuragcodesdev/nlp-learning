{
  "cells": [
    {
      "cell_type": "code",
      "source": [
        "from transformers import pipeline"
      ],
      "outputs": [],
      "execution_count": 3,
      "metadata": {
        "gather": {
          "logged": 1749542016000
        }
      }
    },
    {
      "cell_type": "code",
      "source": [
        "sentiment_pipeline = pipeline(\"sentiment-analysis\", model=\"cardiffnlp/twitter-roberta-base-sentiment-latest\")\n",
        "emotion_pipeline = pipeline(\"text-classification\", model=\"j-hartmann/emotion-english-distilroberta-base\")"
      ],
      "outputs": [
        {
          "output_type": "stream",
          "name": "stderr",
          "text": "Some weights of the model checkpoint at cardiffnlp/twitter-roberta-base-sentiment-latest were not used when initializing RobertaForSequenceClassification: ['roberta.pooler.dense.bias', 'roberta.pooler.dense.weight']\n- This IS expected if you are initializing RobertaForSequenceClassification from the checkpoint of a model trained on another task or with another architecture (e.g. initializing a BertForSequenceClassification model from a BertForPreTraining model).\n- This IS NOT expected if you are initializing RobertaForSequenceClassification from the checkpoint of a model that you expect to be exactly identical (initializing a BertForSequenceClassification model from a BertForSequenceClassification model).\nDevice set to use cpu\nDevice set to use cpu\n"
        }
      ],
      "execution_count": 20,
      "metadata": {
        "gather": {
          "logged": 1749543209451
        }
      }
    },
    {
      "cell_type": "code",
      "source": [
        "def analyse_sentiment(text: str) -> dict:\n",
        "    result = sentiment_pipeline(text)\n",
        "\n",
        "    # assign sentiment and confidence\n",
        "    sentiment = result[0].get('label')\n",
        "    confidence = result[0].get('score')\n",
        "\n",
        "    return {\n",
        "        \"sentiment\": sentiment,\n",
        "        \"confidence\": confidence\n",
        "    }\n"
      ],
      "outputs": [],
      "execution_count": 18,
      "metadata": {
        "gather": {
          "logged": 1749542208340
        }
      }
    },
    {
      "cell_type": "code",
      "source": [
        "analyse_sentiment(\"This is amazing!\")"
      ],
      "outputs": [
        {
          "output_type": "execute_result",
          "execution_count": 19,
          "data": {
            "text/plain": "{'sentiment': 'positive', 'confidence': 0.9747719764709473}"
          },
          "metadata": {}
        }
      ],
      "execution_count": 19,
      "metadata": {
        "gather": {
          "logged": 1749542210161
        }
      }
    },
    {
      "cell_type": "code",
      "source": [
        "def analyse_emotions(text: str) -> dict:\n",
        "    emotions = emotion_pipeline(text)\n",
        "\n",
        "    top_emotions = sorted(emotions, key=lambda x : x['score'], reverse=True)[:3]\n",
        "\n",
        "    return {\n",
        "        \"primary_emotion\": top_emotions[0]['label'],\n",
        "        \"primary_confidence\": top_emotions[0]['score'],\n",
        "        \"secondary_emotion\": top_emotions[1]['label'] if len(top_emotions) > 1 else None,\n",
        "        \"all_emotions\": top_emotions\n",
        "    }"
      ],
      "outputs": [],
      "execution_count": 25,
      "metadata": {
        "gather": {
          "logged": 1749543791211
        }
      }
    },
    {
      "cell_type": "code",
      "source": [
        "analyse_emotions(\"We're making a lot of progress!\")"
      ],
      "outputs": [
        {
          "output_type": "execute_result",
          "execution_count": 39,
          "data": {
            "text/plain": "{'primary_emotion': 'joy',\n 'primary_confidence': 0.6284446120262146,\n 'secondary_emotion': None,\n 'all_emotions': [{'label': 'joy', 'score': 0.6284446120262146}]}"
          },
          "metadata": {}
        }
      ],
      "execution_count": 39,
      "metadata": {
        "gather": {
          "logged": 1749543967608
        }
      }
    },
    {
      "cell_type": "code",
      "source": [
        "def get_combined_analysis(text: str) -> dict:\n",
        "\n",
        "    sentiment_data = analyse_sentiment(text)\n",
        "    emotion_data = analyse_emotions(text)\n",
        "    \n",
        "    return {\n",
        "        \"sentiment\": sentiment_data,\n",
        "        \"emotion\": emotion_data,\n",
        "        \"text\": text\n",
        "    }"
      ],
      "outputs": [],
      "execution_count": 40,
      "metadata": {
        "gather": {
          "logged": 1749543968611
        }
      }
    },
    {
      "cell_type": "code",
      "source": [
        "get_combined_analysis(\"We're making a lot of progress!\")"
      ],
      "outputs": [
        {
          "output_type": "execute_result",
          "execution_count": 41,
          "data": {
            "text/plain": "{'sentiment': {'sentiment': 'positive', 'confidence': 0.9833697080612183},\n 'emotion': {'primary_emotion': 'joy',\n  'primary_confidence': 0.6284446120262146,\n  'secondary_emotion': None,\n  'all_emotions': [{'label': 'joy', 'score': 0.6284446120262146}]},\n 'text': \"We're making a lot of progress!\"}"
          },
          "metadata": {}
        }
      ],
      "execution_count": 41,
      "metadata": {
        "gather": {
          "logged": 1749543970320
        }
      }
    }
  ],
  "metadata": {
    "kernelspec": {
      "name": "nlp-env",
      "language": "python",
      "display_name": "My NLP Env"
    },
    "language_info": {
      "name": "python",
      "version": "3.10.18",
      "mimetype": "text/x-python",
      "codemirror_mode": {
        "name": "ipython",
        "version": 3
      },
      "pygments_lexer": "ipython3",
      "nbconvert_exporter": "python",
      "file_extension": ".py"
    },
    "microsoft": {
      "ms_spell_check": {
        "ms_spell_check_language": "en"
      },
      "host": {
        "AzureML": {
          "notebookHasBeenCompleted": true
        }
      }
    },
    "kernel_info": {
      "name": "nlp-env"
    },
    "nteract": {
      "version": "nteract-front-end@1.0.0"
    }
  },
  "nbformat": 4,
  "nbformat_minor": 2
}