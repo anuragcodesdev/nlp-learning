{
 "cells": [
  {
   "cell_type": "markdown",
   "id": "f0087e3c",
   "metadata": {},
   "source": [
    "## Text To Speech\n",
    "The goal here is to utilise the `edge-tts` library to dictate text in an human expressible way."
   ]
  },
  {
   "cell_type": "code",
   "execution_count": 13,
   "id": "7dd347aa",
   "metadata": {},
   "outputs": [],
   "source": [
    "import os\n",
    "import edge_tts\n",
    "from datetime import datetime\n",
    "import speech_recognition as sr"
   ]
  },
  {
   "cell_type": "code",
   "execution_count": null,
   "id": "56ceae6d",
   "metadata": {},
   "outputs": [],
   "source": [
    "async def speak_response(text: str, voice: str = \"en-US-JennyNeural\", output_folder: str = \"tts_outputs\") -> None:\n",
    "    \"\"\"\n",
    "    Convert text to speech utilsing the Microsoft Edge TTS and save as MP3 file.\n",
    "    \n",
    "    Params:\n",
    "        :text: The text to convert to speech\n",
    "        :voice: Voice to use for output (one of many)\n",
    "        :output_folder: Name of the output folder to keep recordings\n",
    "    \"\"\"\n",
    "    # Ensure output folder exists\n",
    "    os.makedirs(output_folder, exist_ok=True)\n",
    "    \n",
    "    # Create filename with timestamp\n",
    "    timestamp = datetime.now().strftime(\"%Y-%m-%d_%H:%M\")\n",
    "    output_filename = f\"response_{timestamp}.mp3\"\n",
    "    output_file = os.path.join(output_folder, output_filename)\n",
    "    \n",
    "    # Utilse Microsoft Edge TTS to generate speech from text\n",
    "    communicate = edge_tts.Communicate(text, voice)\n",
    "    await communicate.save(output_file)\n",
    "    \n",
    "    print(f\"Response saved as: {output_file}\")"
   ]
  },
  {
   "cell_type": "code",
   "execution_count": null,
   "id": "63602e30",
   "metadata": {},
   "outputs": [],
   "source": [
    "def record_microphone(recogniser : sr.Recognizer, duration: int = 5) -> str:\n",
    "    \n",
    "    with sr.Microphone() as source:\n",
    "        print(\"Adjusting for ambient noise\")\n",
    "        # Calibrates background noise level to differentiate speech from silence\n",
    "        recogniser.adjust_for_ambient_noise(source, duration=1.5)\n",
    "        \n",
    "        print(f\"Listening for {duration} seconds... Speak now!\")\n",
    "        try:\n",
    "            # Record audio until specific limit\n",
    "            input = recogniser.listen(source, timeout=1, phrase_time_limit=duration)\n",
    "            print('Recording Complete. Processing, please wait.')\n",
    "            \n",
    "            # Transcribe\n",
    "            text = recogniser.recognize_google(input)\n",
    "            print(f\"You said: {text}\")\n",
    "            return text\n",
    "        \n",
    "        except Exception as e:\n",
    "            print(f\"Error: {e}\")\n",
    "            return None\n",
    "        "
   ]
  },
  {
   "cell_type": "code",
   "execution_count": 19,
   "id": "18421d66",
   "metadata": {},
   "outputs": [
    {
     "name": "stdout",
     "output_type": "stream",
     "text": [
      "Adjusting for ambient noise\n",
      "Listening for 5 seconds... Speak now!\n",
      "Recording Complete. Processing, please wait.\n",
      "You said: hello it's me\n"
     ]
    }
   ],
   "source": [
    "# Create a Recognizer instance\n",
    "recognizer = sr.Recognizer()\n",
    "\n",
    "# Call the function with the recognizer\n",
    "text = record_microphone(recognizer, duration=5)  "
   ]
  }
 ],
 "metadata": {
  "kernelspec": {
   "display_name": "nlp-learning-env",
   "language": "python",
   "name": "python3"
  },
  "language_info": {
   "codemirror_mode": {
    "name": "ipython",
    "version": 3
   },
   "file_extension": ".py",
   "mimetype": "text/x-python",
   "name": "python",
   "nbconvert_exporter": "python",
   "pygments_lexer": "ipython3",
   "version": "3.12.7"
  }
 },
 "nbformat": 4,
 "nbformat_minor": 5
}
