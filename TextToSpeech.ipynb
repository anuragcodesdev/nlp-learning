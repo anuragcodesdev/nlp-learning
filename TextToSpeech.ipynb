{
 "cells": [
  {
   "cell_type": "markdown",
   "id": "f0087e3c",
   "metadata": {},
   "source": [
    "## Text To Speech\n",
    "The goal here is to utilise the `edge-tts` library to dictate text in an human expressible way."
   ]
  },
  {
   "cell_type": "code",
   "execution_count": 2,
   "id": "7dd347aa",
   "metadata": {},
   "outputs": [],
   "source": [
    "import os\n",
    "import edge_tts\n",
    "from datetime import datetime"
   ]
  },
  {
   "cell_type": "code",
   "execution_count": null,
   "id": "56ceae6d",
   "metadata": {},
   "outputs": [],
   "source": [
    "async def speak_response(text: str, voice: str = \"en-US-JennyNeural\", output_folder: str = \"tts_outputs\") -> None:\n",
    "    \"\"\"\n",
    "    Convert text to speech utilsing the Microsoft Edge TTS and save as MP3 file.\n",
    "    \n",
    "    Params:\n",
    "        :text: The text to convert to speech\n",
    "        :voice: Voice to use for output (one of many)\n",
    "        :output_folder: Name of the output folder to keep recordings\n",
    "    \"\"\"\n",
    "    # Ensure output folder exists\n",
    "    os.makedirs(output_folder, exist_ok=True)\n",
    "    \n",
    "    # Create filename with timestamp\n",
    "    timestamp = datetime.now().strftime(\"%Y-%m-%d_%H:%M\")\n",
    "    output_filename = f\"response_{timestamp}.mp3\"\n",
    "    output_file = os.path.join(output_folder, output_filename)\n",
    "    \n",
    "    # Utilse Microsoft Edge TTS to generate speech from text\n",
    "    communicate = edge_tts.Communicate(text, voice)\n",
    "    await communicate.save(output_file)\n",
    "    \n",
    "    print(f\"Response saved as: {output_file}\")\n",
    "    "
   ]
  },
  {
   "cell_type": "code",
   "execution_count": 10,
   "id": "63602e30",
   "metadata": {},
   "outputs": [
    {
     "name": "stdout",
     "output_type": "stream",
     "text": [
      "Response saved as: tts_outputs/response_2025-06-09_00:02:44.mp3\n"
     ]
    }
   ],
   "source": [
    "await speak_response(\"hello my name is the king!\")"
   ]
  }
 ],
 "metadata": {
  "kernelspec": {
   "display_name": "nlp-learning-env",
   "language": "python",
   "name": "python3"
  },
  "language_info": {
   "codemirror_mode": {
    "name": "ipython",
    "version": 3
   },
   "file_extension": ".py",
   "mimetype": "text/x-python",
   "name": "python",
   "nbconvert_exporter": "python",
   "pygments_lexer": "ipython3",
   "version": "3.12.7"
  }
 },
 "nbformat": 4,
 "nbformat_minor": 5
}
